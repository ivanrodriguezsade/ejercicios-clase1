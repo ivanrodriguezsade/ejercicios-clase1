{
 "cells": [
  {
   "cell_type": "code",
   "execution_count": 1,
   "id": "45926300",
   "metadata": {},
   "outputs": [
    {
     "name": "stdout",
     "output_type": "stream",
     "text": [
      "{'nombre': 'Junacito', 'edad': 25, 'carrera': 'psicologia'}\n"
     ]
    }
   ],
   "source": [
    "# Cambiar la edad del alumno y mostrar el diccionario completo\n",
    "alumno1 = {\"nombre\": \"Junacito\", \"edad\": 22, \"carrera\": \"psicologia\"}\n",
    "alumno1[\"edad\"] = 25\n",
    "print(alumno1)"
   ]
  }
 ],
 "metadata": {
  "kernelspec": {
   "display_name": "Python 3",
   "language": "python",
   "name": "python3"
  },
  "language_info": {
   "codemirror_mode": {
    "name": "ipython",
    "version": 3
   },
   "file_extension": ".py",
   "mimetype": "text/x-python",
   "name": "python",
   "nbconvert_exporter": "python",
   "pygments_lexer": "ipython3",
   "version": "3.12.3"
  }
 },
 "nbformat": 4,
 "nbformat_minor": 5
}
