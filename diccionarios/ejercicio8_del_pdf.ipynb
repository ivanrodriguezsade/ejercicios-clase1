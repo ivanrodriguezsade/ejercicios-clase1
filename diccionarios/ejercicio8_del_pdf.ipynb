{
 "cells": [
  {
   "cell_type": "code",
   "execution_count": 2,
   "id": "a2304291",
   "metadata": {},
   "outputs": [
    {
     "name": "stdout",
     "output_type": "stream",
     "text": [
      "Es copia fiel del diccionario de nota_alumno:\n",
      "{'materia': {'Programación II': 9, 'ciencia de datos': 9, 'programación I': 10}}\n"
     ]
    }
   ],
   "source": [
    "# Crear un nuevo diccionario que sea una copia del diccionario de notas del alumno. Mostrar los datos del nuevo diccionario\n",
    "nota_alumno = {\"materia\": {\"Programación II\": 9, \"ciencia de datos\": 9, \"programación I\": 10}}\n",
    "# Creo copia\n",
    "nueva_nota_alumno = nota_alumno.copy()\n",
    "\n",
    "# Se muestra el nuevo diccionario\n",
    "print(\"Es copia fiel del diccionario de nota_alumno:\")\n",
    "print(nueva_nota_alumno)"
   ]
  }
 ],
 "metadata": {
  "kernelspec": {
   "display_name": "Python 3",
   "language": "python",
   "name": "python3"
  },
  "language_info": {
   "codemirror_mode": {
    "name": "ipython",
    "version": 3
   },
   "file_extension": ".py",
   "mimetype": "text/x-python",
   "name": "python",
   "nbconvert_exporter": "python",
   "pygments_lexer": "ipython3",
   "version": "3.12.3"
  }
 },
 "nbformat": 4,
 "nbformat_minor": 5
}
