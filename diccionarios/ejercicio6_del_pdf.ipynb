{
 "cells": [
  {
   "cell_type": "code",
   "execution_count": 1,
   "id": "2ea3684a",
   "metadata": {},
   "outputs": [
    {
     "name": "stdout",
     "output_type": "stream",
     "text": [
      "{'materia': {'Programación II': 9, 'ciencia de datos': 9, 'programación I': 10}}\n"
     ]
    }
   ],
   "source": [
    "# Crear un diccionario que contenga las notas de un alumno en tres materias.\n",
    "# Las materias son programación II, ciencia de datos, programación I\n",
    "nota_alumno = {\"materia\": {\"Programación II\": 9, \"ciencia de datos\": 9, \"programación I\": 10}}\n",
    "print(nota_alumno)"
   ]
  }
 ],
 "metadata": {
  "kernelspec": {
   "display_name": "Python 3",
   "language": "python",
   "name": "python3"
  },
  "language_info": {
   "codemirror_mode": {
    "name": "ipython",
    "version": 3
   },
   "file_extension": ".py",
   "mimetype": "text/x-python",
   "name": "python",
   "nbconvert_exporter": "python",
   "pygments_lexer": "ipython3",
   "version": "3.12.3"
  }
 },
 "nbformat": 4,
 "nbformat_minor": 5
}
