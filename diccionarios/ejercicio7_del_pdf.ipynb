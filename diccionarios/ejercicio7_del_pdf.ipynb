{
 "cells": [
  {
   "cell_type": "code",
   "execution_count": 2,
   "id": "309fff2b",
   "metadata": {},
   "outputs": [
    {
     "name": "stdout",
     "output_type": "stream",
     "text": [
      "dict_items([('materia', {'Programación II': 9, 'ciencia de datos': 9, 'programación I': 10})])\n",
      "None\n"
     ]
    }
   ],
   "source": [
    "# Mostrar todos los ítems del diccionario de notas\n",
    "nota_alumno = {\"materia\": {\"Programación II\": 9, \"ciencia de datos\": 9, \"programación I\": 10}}\n",
    "print(nota_alumno.items())\n",
    "print(nota_alumno.get(\"ciencia de datos\"))"
   ]
  }
 ],
 "metadata": {
  "kernelspec": {
   "display_name": "Python 3",
   "language": "python",
   "name": "python3"
  },
  "language_info": {
   "codemirror_mode": {
    "name": "ipython",
    "version": 3
   },
   "file_extension": ".py",
   "mimetype": "text/x-python",
   "name": "python",
   "nbconvert_exporter": "python",
   "pygments_lexer": "ipython3",
   "version": "3.12.3"
  }
 },
 "nbformat": 4,
 "nbformat_minor": 5
}
