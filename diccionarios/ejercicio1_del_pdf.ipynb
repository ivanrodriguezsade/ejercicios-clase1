{
 "cells": [
  {
   "cell_type": "code",
   "execution_count": 4,
   "id": "84a2e16c",
   "metadata": {},
   "outputs": [
    {
     "name": "stdout",
     "output_type": "stream",
     "text": [
      "{'nombre': 'Junacito', 'edad': 22, 'carrera': 'psicologia'}\n"
     ]
    }
   ],
   "source": [
    "# Crear un diccionario que contenga nombre, edad y carrera de un alumno y mostrar el diccionario completo\n",
    "alumno1 = {\"nombre\": \"Junacito\", \"edad\": 22, \"carrera\": \"psicologia\"}\n",
    "print(alumno1)"
   ]
  }
 ],
 "metadata": {
  "kernelspec": {
   "display_name": "Python 3",
   "language": "python",
   "name": "python3"
  },
  "language_info": {
   "codemirror_mode": {
    "name": "ipython",
    "version": 3
   },
   "file_extension": ".py",
   "mimetype": "text/x-python",
   "name": "python",
   "nbconvert_exporter": "python",
   "pygments_lexer": "ipython3",
   "version": "3.12.3"
  }
 },
 "nbformat": 4,
 "nbformat_minor": 5
}
