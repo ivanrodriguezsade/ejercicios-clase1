{
 "cells": [
  {
   "cell_type": "code",
   "execution_count": 1,
   "id": "5cd859c0",
   "metadata": {},
   "outputs": [
    {
     "name": "stdout",
     "output_type": "stream",
     "text": [
      "El primer elemento es: 20\n",
      "El segundo elemento es: 30\n",
      "El terecer elemento es: 40\n"
     ]
    }
   ],
   "source": [
    "mi_tupla = (20,30,40,50,60)\n",
    "# Desempaqueto los 3 primeros elementos en variables a, b y c\n",
    "a, b, c = mi_tupla[:3]\n",
    "print(f\"El primer elemento es: {a}\")\n",
    "print(f\"El segundo elemento es: {b}\")\n",
    "print(f\"El terecer elemento es: {c}\")"
   ]
  }
 ],
 "metadata": {
  "kernelspec": {
   "display_name": "Python 3",
   "language": "python",
   "name": "python3"
  },
  "language_info": {
   "codemirror_mode": {
    "name": "ipython",
    "version": 3
   },
   "file_extension": ".py",
   "mimetype": "text/x-python",
   "name": "python",
   "nbconvert_exporter": "python",
   "pygments_lexer": "ipython3",
   "version": "3.12.3"
  }
 },
 "nbformat": 4,
 "nbformat_minor": 5
}
