{
 "cells": [
  {
   "cell_type": "code",
   "execution_count": 1,
   "id": "8b4025c0",
   "metadata": {},
   "outputs": [
    {
     "name": "stdout",
     "output_type": "stream",
     "text": [
      "El elemento 5 aparece 3 veces en la tupla\n",
      "El elemento 20 aparece 5 veces en la lista\n"
     ]
    }
   ],
   "source": [
    "# Mostrar la cantidad de veces que se encuentra un elemento específico dentro de la tupla y de la lista (utilizar count)\n",
    "mi_tupla = (1,2,3,4,5,6,5,7,8,5)\n",
    "mi_lista = [10,20,30,20,40,20,50,20,60,20]\n",
    "\n",
    "elemento_tupla = 5\n",
    "elemento_lista = 20\n",
    "\n",
    "cantidad_tupla = mi_tupla.count(elemento_tupla)\n",
    "cantidad_lista = mi_lista.count(elemento_lista)\n",
    "\n",
    "print(f\"El elemento {elemento_tupla} aparece {cantidad_tupla} veces en la tupla\")\n",
    "print(f\"El elemento {elemento_lista} aparece {cantidad_lista} veces en la lista\")"
   ]
  }
 ],
 "metadata": {
  "kernelspec": {
   "display_name": "Python 3",
   "language": "python",
   "name": "python3"
  },
  "language_info": {
   "codemirror_mode": {
    "name": "ipython",
    "version": 3
   },
   "file_extension": ".py",
   "mimetype": "text/x-python",
   "name": "python",
   "nbconvert_exporter": "python",
   "pygments_lexer": "ipython3",
   "version": "3.12.3"
  }
 },
 "nbformat": 4,
 "nbformat_minor": 5
}
