{
 "cells": [
  {
   "cell_type": "code",
   "execution_count": null,
   "id": "c6301dd7",
   "metadata": {},
   "outputs": [
    {
     "name": "stdout",
     "output_type": "stream",
     "text": [
      "La fruta con peso 110 gramos y color naranja ha sido clasificada como: naranja\n"
     ]
    }
   ],
   "source": [
    "# 1- Crear una lista de frutas\n",
    "frutas = [\"banana\", \"manzana\", \"pera\", \"naranja\", \"uva\", \"frutilla\"]\n",
    "# 2- Crear un diccionario para cada fruta que contenga sus caracteristicas como peso, color, forma\n",
    "caracteristicas = {\"banana\": {\"peso\": 170, \"color\": \"amarillo\", \"forma\": \"alargada\"},\n",
    "                   \"manzana\": {\"peso\": 120, \"color\": \"rojo\", \"forma\": \"redonda\"},\n",
    "                   \"pera\": {\"peso\": 130, \"color\": \"amarillo\", \"forma\": \"irregular\"},\n",
    "                   \"naranja\": {\"peso\": 110, \"color\": \"naranja\", \"forma\": \"redonda\"},\n",
    "                   \"uva\": {\"peso\": 15, \"color\": \"violeta\", \"forma\": \"redonda\"},\n",
    "                   \"frutilla\": {\"peso\": 20, \"color\": \"rojo\", \"forma\": \"irregular\"}\n",
    "                   }\n",
    "# 3- Simulacion de clasificacion mediante IA\n",
    "# 1ero defino la fruta a clasificar\n",
    "fruta_a_clasificar = {\"peso\": 110, \"color\": \"naranja\"}\n",
    "# 2do busco una fruta en el diccionario con esas caracterisiticas\n",
    "fruta_identificada = None\n",
    "for nombre, caracteristicas_fruta in caracteristicas.items():\n",
    "    if caracteristicas_fruta[\"peso\"] == fruta_a_clasificar[\"peso\"] and caracteristicas_fruta[\"color\"] == fruta_a_clasificar[\"color\"]:\n",
    "        fruta_identificada = nombre\n",
    "        break\n",
    "# 4 - Imprimir el resultado\n",
    "if fruta_identificada:\n",
    "    print(f\"La fruta con peso {fruta_a_clasificar[\"peso\"]} gramos y color {fruta_a_clasificar[\"color\"]} ha sido clasificada como: {fruta_identificada}\")\n",
    "else:\n",
    "    print(\"No se encontro ninguna fruta con esas caracteristicas en el diccionario\")\n"
   ]
  }
 ],
 "metadata": {
  "kernelspec": {
   "display_name": "Python 3",
   "language": "python",
   "name": "python3"
  },
  "language_info": {
   "codemirror_mode": {
    "name": "ipython",
    "version": 3
   },
   "file_extension": ".py",
   "mimetype": "text/x-python",
   "name": "python",
   "nbconvert_exporter": "python",
   "pygments_lexer": "ipython3",
   "version": "3.12.3"
  }
 },
 "nbformat": 4,
 "nbformat_minor": 5
}
